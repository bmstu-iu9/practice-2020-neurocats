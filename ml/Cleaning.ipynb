{
 "cells": [
  {
   "cell_type": "code",
   "execution_count": 1,
   "metadata": {},
   "outputs": [],
   "source": [
    "import pandas as pd\n",
    "import ast\n",
    "from os import path\n",
    "pd.set_option('display.max_rows', 115)\n",
    "pd.set_option('display.max_columns', 115)"
   ]
  },
  {
   "cell_type": "code",
   "execution_count": 2,
   "metadata": {},
   "outputs": [],
   "source": [
    "path_csv = path.join(path.abspath('.'), 'data', 'cats.csv')\n",
    "path_good_csv = path.join(path.abspath('.'), 'data', 'good_cats.csv')\n",
    "df = pd.read_csv(path_csv)"
   ]
  },
  {
   "cell_type": "code",
   "execution_count": 3,
   "metadata": {},
   "outputs": [
    {
     "data": {
      "text/plain": [
       "Baby      24663\n",
       "Adult     22910\n",
       "Young     16624\n",
       "Senior     2948\n",
       "Name: age, dtype: int64"
      ]
     },
     "execution_count": 3,
     "metadata": {},
     "output_type": "execute_result"
    }
   ],
   "source": [
    "df.age.value_counts()"
   ]
  },
  {
   "cell_type": "code",
   "execution_count": 4,
   "metadata": {},
   "outputs": [],
   "source": [
    "filt = ((df['age'] == 'Baby') | (df['age'] == 'Young'))\n",
    "df.drop(index = df[filt].index, inplace=True)"
   ]
  },
  {
   "cell_type": "code",
   "execution_count": 5,
   "metadata": {},
   "outputs": [],
   "source": [
    "filt = (\n",
    "    (df['breed'] == 'American Curl') |\n",
    "    (df['breed'] == 'American Wirehair') |\n",
    "    (df['breed'] == 'Burmilla') |\n",
    "    (df['breed'] == 'Canadian Hairless') |\n",
    "    (df['breed'] == 'Chausie') |\n",
    "    (df['breed'] == 'Chinchilla') |\n",
    "    (df['breed'] == 'Cymric') |\n",
    "    (df['breed'] == 'Japanese Bobtail') |\n",
    "    (df['breed'] == 'Javanese') |\n",
    "    (df['breed'] == 'LaPerm') |\n",
    "    (df['breed'] == 'Oriental Long Hair') |\n",
    "    (df['breed'] == 'Silver') |\n",
    "    (df['breed'] == 'Singapura') |\n",
    "    (df['breed'] == 'Somali') |\n",
    "    (df['breed'] == 'York Chocolate')\n",
    ")\n",
    "df.drop(index = df[filt].index, inplace=True)"
   ]
  },
  {
   "cell_type": "code",
   "execution_count": 6,
   "metadata": {},
   "outputs": [],
   "source": [
    "df.drop(columns=['Unnamed: 0'], inplace=True)"
   ]
  },
  {
   "cell_type": "code",
   "execution_count": 7,
   "metadata": {},
   "outputs": [],
   "source": [
    "df.drop(columns=['url', 'type', 'age', 'gender', 'coat', 'size', 'med_photos', 'id'], inplace=True)"
   ]
  },
  {
   "cell_type": "code",
   "execution_count": 8,
   "metadata": {},
   "outputs": [],
   "source": [
    "for i in df.index:\n",
    "    pht = ast.literal_eval(df.loc[i].photos)\n",
    "    df.loc[i].photos = str([x['full'] for x in pht])\n",
    "df.to_csv(path_good_csv, index=False)"
   ]
  }
 ],
 "metadata": {
  "kernelspec": {
   "display_name": "Python 3",
   "language": "python",
   "name": "python3"
  },
  "language_info": {
   "codemirror_mode": {
    "name": "ipython",
    "version": 3
   },
   "file_extension": ".py",
   "mimetype": "text/x-python",
   "name": "python",
   "nbconvert_exporter": "python",
   "pygments_lexer": "ipython3",
   "version": "3.7.7"
  }
 },
 "nbformat": 4,
 "nbformat_minor": 4
}
